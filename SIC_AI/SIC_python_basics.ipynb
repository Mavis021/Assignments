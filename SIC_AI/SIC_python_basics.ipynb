{
 "cells": [
  {
   "cell_type": "markdown",
   "metadata": {},
   "source": [
    "SIC Python Basics"
   ]
  },
  {
   "cell_type": "code",
   "execution_count": 2,
   "metadata": {},
   "outputs": [
    {
     "name": "stdout",
     "output_type": "stream",
     "text": [
      "Name : Mamata Maharjan\n",
      "*************************\n",
      "Age : 22\n",
      "*************************\n",
      "Job : Student\n",
      "*************************\n",
      "Current Address : Nepal\n",
      "*************************\n",
      "Birth Place : Nepal\n",
      "*************************\n"
     ]
    }
   ],
   "source": [
    "# Program that prints your Resume\n",
    "\n",
    "data = {'Name' : 'Mamata Maharjan', 'Age' : '22', 'Job' : 'Student', 'Current Address' : 'Nepal', 'Birth Place' : 'Nepal'}\n",
    "\n",
    "for i in range (0, len(data)):\n",
    "    print(list(data.keys())[i], \":\", list(data.values())[i])\n",
    "    print(\"*\" * 25)"
   ]
  },
  {
   "cell_type": "code",
   "execution_count": 4,
   "metadata": {},
   "outputs": [
    {
     "name": "stdout",
     "output_type": "stream",
     "text": [
      "\n",
      "Calculate the      Circumference and Area of a Circle\n",
      "\n",
      "Radius of a Circle is 4.0\n",
      "Circumference of a Circle is 25.133\n",
      "Area of a Circle is 50.265\n"
     ]
    }
   ],
   "source": [
    "'''\n",
    "radius = 5\n",
    "Circumference of a Circle = 2 * π * r\n",
    "Area of a Circle = π * r * r\n",
    "'''\n",
    "\n",
    "print('''\n",
    "Calculate the\\\n",
    "      Circumference and Area of a Circle\n",
    "''')\n",
    "\n",
    "def circle(radius):\n",
    "      pi = 3.14159\n",
    "\n",
    "      print(\"Radius of a Circle is\", radius)\n",
    "      print(\"Circumference of a Circle is\", round(2 * pi * radius, 3))\n",
    "      print(\"Area of a Circle is\", round(pi * radius ** 2, 3))\n",
    "\n",
    "try:\n",
    "      radius = float(input(\"Enter the radius of a CIrcle: \"))\n",
    "      circle(radius)\n",
    "except ValueError:\n",
    "      print(\"Please enter a valid number\")"
   ]
  },
  {
   "cell_type": "code",
   "execution_count": 21,
   "metadata": {},
   "outputs": [
    {
     "name": "stdout",
     "output_type": "stream",
     "text": [
      "    *    \n",
      "   ***   \n",
      "  *****  \n",
      "*********\n",
      "  *****  \n",
      "   ***   \n",
      "    *    \n"
     ]
    }
   ],
   "source": [
    "print('    *    ')\n",
    "print('   ***   ')\n",
    "print('  *****  ')\n",
    "print('*********')\n",
    "print('  *****  ')\n",
    "print('   ***   ')\n",
    "print('    *    ')"
   ]
  },
  {
   "cell_type": "code",
   "execution_count": 31,
   "metadata": {},
   "outputs": [
    {
     "name": "stdout",
     "output_type": "stream",
     "text": [
      "Factor of  18 is\n",
      "18\n",
      "9\n",
      "3\n",
      "Factor of  39 is\n",
      "39\n",
      "13\n",
      "Factor of  63 is\n",
      "63\n",
      "21\n",
      "7\n",
      "Factor of  126 is\n",
      "126\n",
      "63\n",
      "21\n",
      "7\n",
      "Factor of  792 is\n",
      "792\n",
      "396\n",
      "198\n",
      "99\n",
      "33\n",
      "11\n"
     ]
    }
   ],
   "source": [
    "# Factors of 18, 39, 63, 126, 792\n",
    "\n",
    "def factors(num):\n",
    "    divisor = 2\n",
    "    while num > 1:\n",
    "        if num % divisor == 0:\n",
    "            print(num)\n",
    "            num = int(num / divisor)\n",
    "        else:\n",
    "            divisor += 1\n",
    "\n",
    "datas = [18, 39, 63, 126, 792]\n",
    "\n",
    "for data in datas:\n",
    "    print(\"Factor of \", data, \"is\")\n",
    "    factors(data)"
   ]
  },
  {
   "cell_type": "code",
   "execution_count": 14,
   "metadata": {},
   "outputs": [
    {
     "name": "stdout",
     "output_type": "stream",
     "text": [
      "100\n",
      "5050\n",
      "1000\n"
     ]
    }
   ],
   "source": [
    "letter ='50'\n",
    "number = 50\n",
    "\n",
    "print(int(letter) + number)\n",
    "print(str(number) + letter)\n",
    "\n",
    "one = '1'\n",
    "z1 = '0'\n",
    "z2 = '0'\n",
    "z3 = '0'\n",
    "\n",
    "print(int(one + z1 + z2 + z3))"
   ]
  },
  {
   "cell_type": "code",
   "execution_count": 17,
   "metadata": {},
   "outputs": [
    {
     "data": {
      "text/plain": [
       "('h', 'l', 'o')"
      ]
     },
     "execution_count": 17,
     "metadata": {},
     "output_type": "execute_result"
    }
   ],
   "source": [
    "'hello'[0], 'hello'[3], 'hello'[-1]"
   ]
  },
  {
   "cell_type": "code",
   "execution_count": 26,
   "metadata": {},
   "outputs": [
    {
     "name": "stdout",
     "output_type": "stream",
     "text": [
      " 5! =  120\n",
      " 10! =  3628800\n"
     ]
    }
   ],
   "source": [
    "# Factorial\n",
    "\n",
    "def factorial(num):\n",
    "    if num == 0:\n",
    "        return 1\n",
    "    else:\n",
    "        return num * factorial(num - 1)\n",
    "    \n",
    "print(\" 5! = \", factorial(5))\n",
    "print(\" 10! = \", factorial(10))"
   ]
  },
  {
   "cell_type": "code",
   "execution_count": 25,
   "metadata": {},
   "outputs": [
    {
     "name": "stdout",
     "output_type": "stream",
     "text": [
      " momo, YOUR BMI IS: 22.42. YOU ARE Normal\n"
     ]
    }
   ],
   "source": [
    "# The BMI Calculator\n",
    "\n",
    "def calculate_bmi(weight, height):\n",
    "\n",
    "    bmi = weight / height ** 2\n",
    "    tag = None\n",
    "\n",
    "    if(bmi < 18.5):\n",
    "        tag = \"Underweight\"\n",
    "    elif(bmi >= 18.5 and bmi < 24.5):\n",
    "        tag = \"Normal\"\n",
    "    elif(bmi >= 24.5 and bmi < 29.9):\n",
    "        tag = \"Overweight\"\n",
    "    else:\n",
    "        tag = \"Obese\"\n",
    "\n",
    "    return bmi, tag\n",
    "    \n",
    "\n",
    "name = input(\"ENTER YOUR NAME: \")\n",
    "height = float(input(\"ENTER YOUR HEIGHT IN FEET: \"))\n",
    "height_m = height * 0.3048\n",
    "weight = float(input(\"ENTER YOUR WEIGHT IN KILOGRAM: \"))\n",
    "bmi, tag = calculate_bmi(weight, height_m) \n",
    "print(f\" {name}, YOUR BMI IS: {round(bmi, 2)}. YOU ARE {tag}\")"
   ]
  },
  {
   "cell_type": "code",
   "execution_count": 27,
   "metadata": {},
   "outputs": [
    {
     "name": "stdout",
     "output_type": "stream",
     "text": [
      "['False', 'None', 'True', 'and', 'as', 'assert', 'async', 'await', 'break', 'class', 'continue', 'def', 'del', 'elif', 'else', 'except', 'finally', 'for', 'from', 'global', 'if', 'import', 'in', 'is', 'lambda', 'nonlocal', 'not', 'or', 'pass', 'raise', 'return', 'try', 'while', 'with', 'yield']\n"
     ]
    }
   ],
   "source": [
    "import keyword\n",
    "\n",
    "print(keyword.kwlist)"
   ]
  },
  {
   "cell_type": "code",
   "execution_count": 33,
   "metadata": {},
   "outputs": [
    {
     "name": "stdout",
     "output_type": "stream",
     "text": [
      "AMOUNT PAID: Rs.  10500\n",
      "PRICE OF THE ITEM: Rs.  10211\n",
      "RETURN: Rs.  289\n",
      "2  Rs.  100\n",
      "1  Rs.  50\n",
      "1  Rs.  20\n",
      "1  Rs.  10\n",
      "1  Rs.  5\n",
      "2  Rs.  2\n"
     ]
    }
   ],
   "source": [
    "# Problem of returning Chnage\n",
    "\n",
    "cash_amounts = [1000, 500, 100, 50, 20, 10, 5, 2, 1]\n",
    "\n",
    "paid = int(input(\"ENTER THE AMOUNT PAID: \"))\n",
    "price = int(input(\"ENTER THE PRICE OF THE ITEM: \"))\n",
    "\n",
    "if paid > price:\n",
    "    change = paid - price\n",
    "\n",
    "    print(\"AMOUNT PAID: Rs. \", paid)\n",
    "    print(\"PRICE OF THE ITEM: Rs. \", price)\n",
    "    print(\"RETURN: Rs. \", change)\n",
    "    for cash in cash_amounts:\n",
    "        while cash <= change and change > 0:\n",
    "            print(change // cash, \" Rs. \", cash)\n",
    "            change = change % cash\n",
    "\n",
    "else:\n",
    "    print(\"THE AMOUNT PAID IS NOT ENOUGH\")\n"
   ]
  },
  {
   "cell_type": "code",
   "execution_count": 52,
   "metadata": {},
   "outputs": [
    {
     "name": "stdout",
     "output_type": "stream",
     "text": [
      "2024 is a leap year\n"
     ]
    }
   ],
   "source": [
    "# Leap Year Calculator\n",
    "\n",
    "def leap_year(year):\n",
    "    if (year % 4 == 0)\\\n",
    "        and (year % 100 != 0 or year % 400 == 0):\n",
    "        return True\n",
    "    else:\n",
    "        return False\n",
    "    \n",
    "year = int(input(\"Enter the year: \"))\n",
    "if leap_year(year):\n",
    "    print(year, \"is a leap year\")\n",
    "else:\n",
    "    print(year, \"is not a leap year\")"
   ]
  },
  {
   "cell_type": "code",
   "execution_count": 61,
   "metadata": {},
   "outputs": [
    {
     "name": "stdout",
     "output_type": "stream",
     "text": [
      "IS THE INTEGER ODD?:: True .ALSO, IS THE INTEGER EVEN?: False\n",
      "IS THE INPUT AN EVEN INTEGER BETWEEN 0 AND 100?: False\n"
     ]
    }
   ],
   "source": [
    "n = int(input(\"ENTER THE INTEGER: \"))\n",
    "print(\"IS THE INTEGER ODD?::\", n % 2 != 0, end = ' .ALSO, ')\n",
    "print(\"IS THE INTEGER EVEN?:\", n % 2 == 0)\n",
    "print(\"IS THE INPUT AN EVEN INTEGER BETWEEN 0 AND 100?:\", n % 2 == 0 and 0 < n <100)"
   ]
  },
  {
   "cell_type": "code",
   "execution_count": 66,
   "metadata": {},
   "outputs": [
    {
     "name": "stdout",
     "output_type": "stream",
     "text": [
      "False\n",
      "False\n",
      "False\n"
     ]
    }
   ],
   "source": [
    "digit = int(input(\"ENTER A 3-DIGIT NUMBER: \"))\n",
    "print(digit // 100 == 3)\n",
    "print(digit % 5 == 0)\n",
    "print(digit > 0)"
   ]
  },
  {
   "cell_type": "code",
   "execution_count": 71,
   "metadata": {},
   "outputs": [
    {
     "data": {
      "text/plain": [
       "[10, 200, 300, 40, 50]"
      ]
     },
     "execution_count": 71,
     "metadata": {},
     "output_type": "execute_result"
    }
   ],
   "source": [
    "a_list = [10, 20, 30, 40, 50]\n",
    "a_list[1:3] = 200, 300\n",
    "a_list"
   ]
  },
  {
   "cell_type": "code",
   "execution_count": 23,
   "metadata": {},
   "outputs": [
    {
     "name": "stdout",
     "output_type": "stream",
     "text": [
      "False\n",
      "[1, 2, 3, 4, 5]\n",
      "False\n",
      "True\n",
      "('d', 'b', 'c', 'd', 'e')\n",
      "('d', 'b', 'c', 'd', 'b', 'c', 'd', 'b', 'c')\n",
      "[('a', 'b', 'c', 'd', 'e')]\n"
     ]
    }
   ],
   "source": [
    "t1 = 'a', 'b', 'c'\n",
    "t2 = ('d', 'b', 'c')\n",
    "t4 = (1,2,3,5,4)\n",
    "t3 = ('d', 'e')\n",
    "print(t1 == t2)\n",
    "t4 = list(t4)\n",
    "t4.sort()\n",
    "print(t4)\n",
    "print(t1>t3)\n",
    "print(t1<t3)\n",
    "print(t2 + t3)\n",
    "print(t2 * 3)\n",
    "print([t1 + t3])"
   ]
  },
  {
   "cell_type": "code",
   "execution_count": 93,
   "metadata": {},
   "outputs": [
    {
     "name": "stdout",
     "output_type": "stream",
     "text": [
      "[5, 4, 3, 2, 1]\n"
     ]
    }
   ],
   "source": [
    "the_list = [1, 3, 5, 4, 2]\n",
    "\n",
    "the_list.sort(reverse = True)\n",
    "print(the_list)\n"
   ]
  },
  {
   "cell_type": "code",
   "execution_count": 95,
   "metadata": {},
   "outputs": [
    {
     "name": "stdout",
     "output_type": "stream",
     "text": [
      "23\n"
     ]
    }
   ],
   "source": [
    "sum = 0\n",
    "for i in range(10): \n",
    "      if i % 3 == 0 or i % 5 == 0:\n",
    "            sum += i\n",
    "print(sum)"
   ]
  },
  {
   "cell_type": "code",
   "execution_count": 96,
   "metadata": {},
   "outputs": [
    {
     "name": "stdout",
     "output_type": "stream",
     "text": [
      "135 degrees is equal to 2.356194490192345 radians\n"
     ]
    }
   ],
   "source": [
    "import math\n",
    "degrees = 135\n",
    "\n",
    "radians = math.radians(degrees)\n",
    "\n",
    "print(f\"{degrees} degrees is equal to {radians} radians\")"
   ]
  }
 ],
 "metadata": {
  "kernelspec": {
   "display_name": "env",
   "language": "python",
   "name": "python3"
  },
  "language_info": {
   "codemirror_mode": {
    "name": "ipython",
    "version": 3
   },
   "file_extension": ".py",
   "mimetype": "text/x-python",
   "name": "python",
   "nbconvert_exporter": "python",
   "pygments_lexer": "ipython3",
   "version": "3.12.3"
  }
 },
 "nbformat": 4,
 "nbformat_minor": 2
}
