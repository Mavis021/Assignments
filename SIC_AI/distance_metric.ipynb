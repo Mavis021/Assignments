{
 "cells": [
  {
   "cell_type": "markdown",
   "metadata": {},
   "source": [
    "## Computation time evaluation of the Distance Metrics \n"
   ]
  },
  {
   "cell_type": "code",
   "execution_count": 4,
   "metadata": {},
   "outputs": [],
   "source": [
    "from datetime import datetime\n",
    "import numpy as  np\n",
    "import random"
   ]
  },
  {
   "cell_type": "code",
   "execution_count": 20,
   "metadata": {},
   "outputs": [],
   "source": [
    "def evaluate_distance_metric(points, r):\n",
    "\n",
    "    start_time = datetime.now()\n",
    "\n",
    "    for i in range(0, len(points) - 1):\n",
    "        for j in range(i+1, len(points)):\n",
    "            Minkowski_distance = pow(sum(pow(abs(a - b), r) for a, b in zip(points[i], points[j])), 1/r)\n",
    "            # print(\"Distance between point \", i, \" and point \", j, \" is: \", Minkowski_distance)\n",
    "    \n",
    "    end_time = datetime.now()\n",
    "\n",
    "    duration = end_time - start_time\n",
    "\n",
    "    print(f\"Completed Computation in {duration}\")"
   ]
  },
  {
   "cell_type": "code",
   "execution_count": 34,
   "metadata": {},
   "outputs": [
    {
     "name": "stdout",
     "output_type": "stream",
     "text": [
      "Points:  [[12 89]\n",
      " [72  4]\n",
      " [72 19]\n",
      " ...\n",
      " [30 65]\n",
      " [55 18]\n",
      " [11 73]]\n"
     ]
    }
   ],
   "source": [
    "num_points = 2100\n",
    "coordinate_range = (1, 100)\n",
    "\n",
    "points = np.random.randint(coordinate_range[0], coordinate_range[1], size=(num_points, 2))\n",
    "print(\"Points: \", points)"
   ]
  },
  {
   "cell_type": "code",
   "execution_count": 35,
   "metadata": {},
   "outputs": [
    {
     "name": "stdout",
     "output_type": "stream",
     "text": [
      "Completed Computation in 0:00:11.643393\n"
     ]
    }
   ],
   "source": [
    "# Eculidian Distance\n",
    "evaluate_distance_metric(points, 2)"
   ]
  },
  {
   "cell_type": "code",
   "execution_count": 36,
   "metadata": {},
   "outputs": [
    {
     "name": "stdout",
     "output_type": "stream",
     "text": [
      "Completed Computation in 0:00:11.218206\n"
     ]
    }
   ],
   "source": [
    "# Manhattan Distance\n",
    "evaluate_distance_metric(points, 1)"
   ]
  }
 ],
 "metadata": {
  "kernelspec": {
   "display_name": "env",
   "language": "python",
   "name": "python3"
  },
  "language_info": {
   "codemirror_mode": {
    "name": "ipython",
    "version": 3
   },
   "file_extension": ".py",
   "mimetype": "text/x-python",
   "name": "python",
   "nbconvert_exporter": "python",
   "pygments_lexer": "ipython3",
   "version": "3.12.3"
  }
 },
 "nbformat": 4,
 "nbformat_minor": 2
}
