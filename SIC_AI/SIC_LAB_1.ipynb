{
 "cells": [
  {
   "cell_type": "markdown",
   "metadata": {},
   "source": [
    "### 1. Find all the element in a list which have been repeated eg. [1,2,3,1,3,4,5,6,4] repeated elements are : [1,3,4]"
   ]
  },
  {
   "cell_type": "code",
   "execution_count": 5,
   "metadata": {},
   "outputs": [
    {
     "name": "stdout",
     "output_type": "stream",
     "text": [
      "[1, 3, 4]\n"
     ]
    }
   ],
   "source": [
    "test_list = [1,2,3,1,3,4,5,6,4,3,3,3] \n",
    "\n",
    "repeated_list = []\n",
    "for num in test_list:\n",
    "    if test_list.count(num) > 1 and num not in repeated_list:\n",
    "        repeated_list.append(num)\n",
    "        \n",
    "print(repeated_list)"
   ]
  },
  {
   "cell_type": "markdown",
   "metadata": {},
   "source": [
    "### 2. What is the time complexity of the project\n",
    "**The Time Complexity of this code is O(n^2)**\n",
    "\n",
    "For loop iterates over each element in test_list, which is **O(n)**  \n",
    "And the count method inside the for loop also iterates over each element of test_list, which is another **O(n)**  \n",
    "{ not in } might take O(n) in worst case"
   ]
  },
  {
   "cell_type": "markdown",
   "metadata": {},
   "source": [
    "### 3. Write a function to check if a given number is prime or not."
   ]
  },
  {
   "cell_type": "code",
   "execution_count": 6,
   "metadata": {},
   "outputs": [
    {
     "name": "stdout",
     "output_type": "stream",
     "text": [
      "PRIME\n"
     ]
    }
   ],
   "source": [
    "the_num = int(input(\"ENTER A NUMBER: \"))\n",
    "\n",
    "def check_prime(num):\n",
    "    if num > 1:\n",
    "        for i in range(2, num):\n",
    "            if num % i == 0:\n",
    "                return print(\"NOT PRIME\")\n",
    "            else:\n",
    "                return print(\"PRIME\")\n",
    "    else:\n",
    "        return print(\"NOT PRIME\")\n",
    "\n",
    "check_prime(the_num)"
   ]
  },
  {
   "cell_type": "markdown",
   "metadata": {},
   "source": [
    "## NUMPY"
   ]
  },
  {
   "cell_type": "markdown",
   "metadata": {},
   "source": [
    "### Find the most similarity documents among 5 documents[ Document 1 , Document2, ... Documnet 5 ]\n",
    "    - Create 124 dimensional random vector to create the vectors for documents. "
   ]
  },
  {
   "cell_type": "code",
   "execution_count": 17,
   "metadata": {},
   "outputs": [
    {
     "name": "stdout",
     "output_type": "stream",
     "text": [
      "SSE         \tDocument 1  \tDocument 2  \n",
      "20.685512\tDoc1           \tDoc2\n",
      "18.468262\tDoc1           \tDoc3\n",
      "20.889749\tDoc1           \tDoc4\n",
      "20.191768\tDoc1           \tDoc5\n",
      "22.017014\tDoc2           \tDoc3\n",
      "17.654142\tDoc2           \tDoc4\n",
      "24.179436\tDoc2           \tDoc5\n",
      "18.450442\tDoc3           \tDoc4\n",
      "17.799650\tDoc3           \tDoc5\n",
      "18.743858\tDoc4           \tDoc5\n",
      "\n",
      "THE LEAST SUM OF SQUARED ERRORS: 17.654142\tDocument2 AND Document4 ARE MOST SIMILAR\n"
     ]
    }
   ],
   "source": [
    "import numpy as np\n",
    "\n",
    "doc1 = np.random.rand(124)  # 124 random vectors\n",
    "doc2 = np.random.rand(124)\n",
    "doc3 = np.random.rand(124)\n",
    "doc4 = np.random.rand(124)\n",
    "doc5 = np.random.rand(124)\n",
    "\n",
    "doc_list = [doc1, doc2, doc3, doc4, doc5]\n",
    "\n",
    "sse = 0\n",
    "chosen_sse = np.inf\n",
    "chosen_docs = [None, None]\n",
    "\n",
    "print(\"{0:12}\\t{1:12}\\t{2:12}\".format(\"SSE\", \"Document 1\", \"Document 2\"))\n",
    "for i in range(len(doc_list)):\n",
    "    for comparator in range(i+ 1, len(doc_list)):\n",
    "\n",
    "        '''\n",
    "        for j in range(len(doc_list[i])):\n",
    "            sse += (doc_list[i][j] - doc_list[comparator][j]) ** 2\n",
    "        '''\n",
    "\n",
    "        sse = np.sum((doc_list[i] - doc_list[comparator]) ** 2)\n",
    "\n",
    "        print(\"{0:6f}\\tDoc{1}{3:11}\\tDoc{2}\".format(sse, i + 1, comparator + 1, \" \"))\n",
    "        if sse < chosen_sse:\n",
    "            chosen_sse = sse\n",
    "            chosen_docs[0] = i + 1\n",
    "            chosen_docs[1] = comparator + 1\n",
    "\n",
    "print(\"\\nTHE LEAST SUM OF SQUARED ERRORS: {0:6f}\\tDocument{1} AND Document{2} ARE MOST SIMILAR\".format(chosen_sse, chosen_docs[0], chosen_docs[1]))\n"
   ]
  },
  {
   "cell_type": "markdown",
   "metadata": {},
   "source": [
    "### Print the shape and dtype of the array"
   ]
  },
  {
   "cell_type": "code",
   "execution_count": 19,
   "metadata": {},
   "outputs": [
    {
     "data": {
      "text/plain": [
       "(numpy.ndarray, (124,))"
      ]
     },
     "execution_count": 19,
     "metadata": {},
     "output_type": "execute_result"
    }
   ],
   "source": [
    "type(doc1), doc1.shape"
   ]
  },
  {
   "cell_type": "markdown",
   "metadata": {},
   "source": [
    "### Find the min and maximum marks for the students in the 5 subjects\n",
    "### What is the mean, median, mode of the marks of each students\n",
    "### Find the average marks for each of the students also find the number of students who passed all the subjects?"
   ]
  },
  {
   "cell_type": "code",
   "execution_count": 14,
   "metadata": {},
   "outputs": [
    {
     "name": "stdout",
     "output_type": "stream",
     "text": [
      "Student \tMin     \tMax     \tMean    \tMedian  \tMode    \tStatus  \n",
      "Ana     \t      21\t      89\t    71.2\t    80.0\t      21\tFAIL    \n",
      "Bob     \t      67\t      93\t    85.8\t    90.0\t      90\tPASS    \n",
      "World   \t      30\t      93\t    75.2\t    90.0\t      30\tFAIL    \n",
      "Hello   \t      48\t      95\t    81.0\t    91.0\t      48\tPASS    \n",
      "Momo    \t      77\t     100\t    91.4\t    93.0\t      77\tPASS    \n",
      "\n",
      "3 STUDENTS PASSED\n"
     ]
    }
   ],
   "source": [
    "import numpy as np\n",
    "\n",
    "student_names = np.array([\"Ana\", \"Bob\", \"World\", \"Hello\", \"Momo\"])\n",
    "marks = np.array([[78, 89, 21, 80, 88],\n",
    "                  [89, 90, 93, 67, 90],\n",
    "                  [90, 93, 30, 72, 91],\n",
    "                  [91, 48, 95, 79, 92],\n",
    "                  [92, 95, 100, 77, 93]])\n",
    "\n",
    "min_marks = np.min(marks, axis=1)\n",
    "max_marks = np.max(marks, axis=1)\n",
    "\n",
    "mean_marks = np.mean(marks, axis=1)\n",
    "median_marks = np.median(marks, axis=1)\n",
    "mode_marks = np.apply_along_axis(lambda x: np.argmax(np.bincount(x)), axis=1, arr=marks)\n",
    "\n",
    "average_marks = np.average(marks, axis=1)\n",
    "\n",
    "status = []\n",
    "pass_count = 0\n",
    "passing_marks = 40\n",
    "\n",
    "for i in range(len(student_names)):\n",
    "    for j in range(len(marks[i])):\n",
    "        if marks[i][j] < passing_marks:\n",
    "            status.append(\"FAIL\")\n",
    "            break\n",
    "    \n",
    "    if j == len(marks[i]) - 1:\n",
    "        pass_count += 1\n",
    "        status.append(\"PASS\")\n",
    "\n",
    "\n",
    "print(\"{0:8}\\t{1:8}\\t{2:8}\\t{3:8}\\t{4:8}\\t{5:8}\\t{6:8}\".format(\"Student\", \"Min\", \"Max\", \"Mean\", \"Median\", \"Mode\", \"Status\"))\n",
    "for i in range(len(student_names)):\n",
    "    print(\"{0:8}\\t{1:8}\\t{2:8}\\t{3:8}\\t{4:8}\\t{5:8}\\t{6:8}\".format(student_names[i], min_marks[i], max_marks[i], mean_marks[i], median_marks[i], mode_marks[i], status[i]))\n",
    "\n",
    "print(\"\\n{0} STUDENTS PASSED\".format(pass_count))"
   ]
  },
  {
   "cell_type": "code",
   "execution_count": null,
   "metadata": {},
   "outputs": [],
   "source": []
  }
 ],
 "metadata": {
  "kernelspec": {
   "display_name": "env",
   "language": "python",
   "name": "python3"
  },
  "language_info": {
   "codemirror_mode": {
    "name": "ipython",
    "version": 3
   },
   "file_extension": ".py",
   "mimetype": "text/x-python",
   "name": "python",
   "nbconvert_exporter": "python",
   "pygments_lexer": "ipython3",
   "version": "3.12.3"
  }
 },
 "nbformat": 4,
 "nbformat_minor": 2
}
